{
 "cells": [
  {
   "cell_type": "markdown",
   "metadata": {},
   "source": [
    "<h1>Notes</h1>\n",
    "\n",
    "<h3>Design Principles</h3> \n",
    "<ul>Encapsulate what varies.</ul>\n",
    "<ul>Favor composition over inheritance.</ul>\n",
    "<ul>Program to interfaces, not implementations.</ul>\n",
    "<ul>Strive for loosely coupled designs between objects that interact.</ul>\n",
    "<ul>Classes should be open for extension but closed for modification.</ul>\n",
    "<ul>Depend on abstractions.  Do not depend on concrete classes.</ul>\n",
    "\n",
    "<h2>Factory Method Pattern - provides an interface for creating families of related or dependent objects without specifying their concrete classes.</h2>\n",
    "\n",
    "<h2>Abstract Factory Pattern - defines an interface for creating an object, but let subclasses decide which class to instantiate.  Factory Method lets a class defer instantiation to the subclasses.</h2>\n",
    "\n",
    "<h3>Bullet Points</h3>\n",
    "<ul>All factories encapsulate object creation.</ul>\n",
    "<ul>Simple Factory, while not a bona fide design pattern, is a simple way to decouple your clients from concrete classes.</ul>\n",
    "<ul>Factory Method relies on inheritance: object creation is delegated to subclasses, which implement the factory method to create objects.</ul>\n",
    "<ul>Abstract Factory relies on object composition: object creation is implemented in methods exposed in the factory interface.</ul>\n",
    "<ul>All factory patterns promote loose coupling by reducing the dependency of your application on concrete classes.</ul>\n",
    "<ul>The intent of Factory Method is to allow a class to defer instantiation to its subclasses.</ul>\n",
    "<ul>The Dependency Inversion Principle guides us to avoid dependencies on concrete types and to strive for abstractions.</ul>\n",
    "<ul>Factories are a powerful technique for coding to abstractions, not concrete classes.</ul>"
   ]
  },
  {
   "cell_type": "code",
   "execution_count": 5,
   "metadata": {},
   "outputs": [],
   "source": [
    "class Pizza:\n",
    "    def __init__(self, pizza_type: str, location: str):\n",
    "        self.type = pizza_type\n",
    "        self.location = location\n",
    "        \n",
    "    def prepare(self):\n",
    "        print(f'Preparing your {self.type} pizza.')\n",
    "        \n",
    "    def bake(self):\n",
    "        print('Bake for 25 minutes at 350.')\n",
    "        \n",
    "    def cut(self):\n",
    "        print(f'Cutting the {self.type} pizza into diagonal slices')\n",
    "        \n",
    "    def box(self):\n",
    "        print(f'Place {self.type} pizza into official {self.location} box')\n",
    "\n",
    "class PizzaStore:\n",
    "    def __init__(self, pizza_type: str, location: str):\n",
    "        PizzaFactory().create(pizza_type, location)\n",
    "        \n",
    "class NYPizzaStore(PizzaStore):\n",
    "    def __init__(self, pizza_type: str):\n",
    "        super().__init__(pizza_type, 'New York')\n",
    "\n",
    "class ChicagoPizzaStore(PizzaStore):\n",
    "    def __init__(self, pizza_type: str):\n",
    "        super().__init__(pizza_type, 'Chicago')\n",
    "        \n",
    "class PizzaFactory:\n",
    "    def create(self, pizza_type: str, location: str):\n",
    "        pizza = Pizza(pizza_type, location)\n",
    "        pizza.prepare()\n",
    "        pizza.bake()\n",
    "        pizza.cut()\n",
    "        pizza.box()\n",
    "        \n",
    "        "
   ]
  },
  {
   "cell_type": "code",
   "execution_count": 6,
   "metadata": {},
   "outputs": [
    {
     "name": "stdout",
     "output_type": "stream",
     "text": [
      "Preparing your pepperoni pizza.\n",
      "Bake for 25 minutes at 350.\n",
      "Cutting the pepperoni pizza into diagonal slices\n",
      "Place pepperoni pizza into official New York box\n",
      "Preparing your cheese pizza.\n",
      "Bake for 25 minutes at 350.\n",
      "Cutting the cheese pizza into diagonal slices\n",
      "Place cheese pizza into official Chicago box\n"
     ]
    },
    {
     "data": {
      "text/plain": [
       "<__main__.ChicagoPizzaStore at 0x103aa4b00>"
      ]
     },
     "execution_count": 6,
     "metadata": {},
     "output_type": "execute_result"
    }
   ],
   "source": [
    "NYPizzaStore('pepperoni')\n",
    "ChicagoPizzaStore('cheese')"
   ]
  },
  {
   "cell_type": "code",
   "execution_count": null,
   "metadata": {},
   "outputs": [],
   "source": []
  }
 ],
 "metadata": {
  "kernelspec": {
   "display_name": "Python 3",
   "language": "python",
   "name": "python3"
  },
  "language_info": {
   "codemirror_mode": {
    "name": "ipython",
    "version": 3
   },
   "file_extension": ".py",
   "mimetype": "text/x-python",
   "name": "python",
   "nbconvert_exporter": "python",
   "pygments_lexer": "ipython3",
   "version": "3.7.0"
  }
 },
 "nbformat": 4,
 "nbformat_minor": 2
}
