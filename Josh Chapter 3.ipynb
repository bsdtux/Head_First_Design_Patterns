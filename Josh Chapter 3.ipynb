{
 "cells": [
  {
   "cell_type": "markdown",
   "metadata": {},
   "source": [
    "# Decorator Pattern\n",
    "Not to be confused with Python Decorators the decorator pattern grants us the ability to add additional responsibilities to objects without having to subclass them"
   ]
  },
  {
   "cell_type": "markdown",
   "metadata": {},
   "source": [
    "## Terms / Glossary / Concepts"
   ]
  },
  {
   "cell_type": "markdown",
   "metadata": {},
   "source": [
    "### OO Principals\n",
    "* Classes should be open for extension but closed for modification\n",
    "    * This means that any new functionality should be implemented in subclasses\n",
    "* Composition and delegation can often be used to add new behaviors at run time\n",
    "\n",
    "### OO Pattern \n",
    "Decorator Pattern\n",
    "* Attach new functionality to object without having to subclass it\n",
    "* Decorator class mirrors the type of components they decorate"
   ]
  },
  {
   "cell_type": "markdown",
   "metadata": {},
   "source": [
    "## Brain Power\n",
    "1. Two Design Principle violations\n",
    "    * Favor composition over inheritance\n",
    "    * Program to interfaces, not implementations"
   ]
  },
  {
   "cell_type": "code",
   "execution_count": 1,
   "metadata": {},
   "outputs": [
    {
     "data": {
      "text/plain": [
       "'BOL Josh Stephens Address 2545 Woodberry Dr, Nashville, TN 37214'"
      ]
     },
     "execution_count": 1,
     "metadata": {},
     "output_type": "execute_result"
    }
   ],
   "source": [
    "\"\"\"Before Applying Open Closed Principal\"\"\"\n",
    "class OrderReport:\n",
    "    def __init__(self, customer, total):\n",
    "        self.customer = customer\n",
    "        self.total = total\n",
    "    def invoice(self):\n",
    "        return f\"Invoice {self.customer}-{self.total}\"\n",
    "    def bill_of_lading(self):\n",
    "        return f\"BOL {self.customer}\"\n",
    "\n",
    "\"\"\"\n",
    "Needs: Now I need to have the OrderReport to contain the address\n",
    "    Instead of adding the address to the OrderReport lets do this in another way\n",
    "\"\"\"\n",
    "class OrderReport:\n",
    "    def __init__(self, customer, total):\n",
    "        self.customer = customer\n",
    "        self.total = total\n",
    "\n",
    "class Invoice(OrderReport):\n",
    "    def print_invoice(self):\n",
    "        return f\"Invoice {self.customer}-{self.total}\"\n",
    "\n",
    "class BillOfLading(OrderReport):\n",
    "    def __init__(self, customer, address, total):\n",
    "        self.address = address\n",
    "        super().__init__(customer, total)\n",
    "    def print_bol(self):\n",
    "        return f\"BOL {self.customer} Address {self.address}\"\n",
    "\n",
    "bol = BillOfLading('Josh Stephens', '2545 Woodberry Dr, Nashville, TN 37214', '32.09')\n",
    "bol.print_bol()\n",
    "\n",
    "\"\"\"\n",
    "One draw back is that we are still using inheritance where we might want to thin about composition \n",
    "\"\"\""
   ]
  },
  {
   "cell_type": "code",
   "execution_count": 27,
   "metadata": {},
   "outputs": [
    {
     "name": "stdout",
     "output_type": "stream",
     "text": [
      "Espresso, Mocha, Whip - 2.59\n"
     ]
    }
   ],
   "source": [
    "\"\"\"Decorator Pattern In Practice\"\"\"\n",
    "from decimal import Decimal\n",
    "from abc import ABCMeta, abstractmethod\n",
    "\n",
    "class Beverage(metaclass=ABCMeta):\n",
    "    def __init__(self, size):\n",
    "        self.size = size\n",
    "    def getDescription(self):\n",
    "        \"\"\"Get Description of Beverage\"\"\"\n",
    "        return self.description\n",
    "    @abstractmethod\n",
    "    def cost(self):\n",
    "        \"\"\"Returns the cost of the Beverage\"\"\"\n",
    "    def getSize(self):\n",
    "        \"\"\"Return Beverage Size\"\"\"\n",
    "        return self.size\n",
    "    def setSize(self, size):\n",
    "        \"\"\"Sets Beverage Size\"\"\"\n",
    "        self.size = size\n",
    "\n",
    "class CondimentDecorator(metaclass=ABCMeta):\n",
    "    def __init__(self, beverage):\n",
    "        self.beverage = beverage\n",
    "    @abstractmethod\n",
    "    def getDescription(self):\n",
    "        \"\"\"Get Description of Beverage\"\"\"\n",
    "        raise NotImplementedError('getDescription not implemented!')\n",
    "    def getSize(self):\n",
    "        return self.beverage.getSize()\n",
    "    def getAdditionalCost(self):\n",
    "        \"\"\"Returns additional cost based on size\"\"\"\n",
    "        additional_cost = Decimal('0.00')\n",
    "        size_map = {'tall': Decimal('0.10'), \n",
    "                    'grande': Decimal('0.15'), \n",
    "                    'venti': Decimal('0.20')}\n",
    "        if self.getSize() in size_map:\n",
    "            additional_cost = size_map[self.getSize()]\n",
    "        return additional_cost\n",
    "\n",
    "class HouseBlend(Beverage):\n",
    "    def __init__(self, size):\n",
    "        self.description = \"House Blend\"\n",
    "        self.size = size\n",
    "    def cost(self):\n",
    "        return Decimal('0.89')\n",
    "\n",
    "class DarkRoast(Beverage):\n",
    "    def __init__(self, size):\n",
    "        self.description = \"Dark Roast\"\n",
    "        self.size = size\n",
    "    def cost(self):\n",
    "        return Decimal('0.99')\n",
    "\n",
    "class Decaf(Beverage):\n",
    "    def __init__(self, size):\n",
    "        self.description = \"Decaf\"\n",
    "        self.size = size\n",
    "    def cost(self):\n",
    "        return Decimal('1.05')\n",
    "    \n",
    "class Espresso(Beverage):\n",
    "    def __init__(self, size):\n",
    "        self.description = \"Espresso\"\n",
    "        self.size = size\n",
    "    def cost(self):\n",
    "        return Decimal('1.99')\n",
    "\n",
    "class Mocha(CondimentDecorator):\n",
    "    def getDescription(self):\n",
    "        return self.beverage.getDescription() + \", Mocha\"\n",
    "    def cost(self):\n",
    "        return self.beverage.cost() + Decimal('0.20') + self.getAdditionalCost()\n",
    "    \n",
    "class SteamedMilk(CondimentDecorator):\n",
    "    def getDescription(self):\n",
    "        return self.beverage.getDescription() + \", Steamed Milk\"\n",
    "    def cost(self):\n",
    "        return self.beverage.cost() + Decimal('0.10') + self.getAdditionalCost()\n",
    "    \n",
    "class Soy(CondimentDecorator):\n",
    "    def getDescription(self):\n",
    "        return self.beverage.getDescription() + \", Soy\"\n",
    "    def cost(self):\n",
    "        return self.beverage.cost() + Decimal('0.15') + self.getAdditionalCost()       \n",
    "\n",
    "    \n",
    "class Whip(CondimentDecorator):\n",
    "    def getDescription(self):\n",
    "        return self.beverage.getDescription() + \", Whip\"\n",
    "    def cost(self):\n",
    "        return self.beverage.cost() + Decimal('0.10') + self.getAdditionalCost()\n",
    "    \n",
    "\n",
    "drink = Espresso('grande')\n",
    "drink = Mocha(drink)\n",
    "# drink = Mocha(drink)\n",
    "# drink = SteamedMilk(drink)\n",
    "drink = Whip(drink)\n",
    "print(f\"{drink.getDescription()} - {drink.cost()}\")"
   ]
  },
  {
   "cell_type": "code",
   "execution_count": null,
   "metadata": {},
   "outputs": [],
   "source": []
  }
 ],
 "metadata": {
  "kernelspec": {
   "display_name": "Python 3",
   "language": "python",
   "name": "python3"
  },
  "language_info": {
   "codemirror_mode": {
    "name": "ipython",
    "version": 3
   },
   "file_extension": ".py",
   "mimetype": "text/x-python",
   "name": "python",
   "nbconvert_exporter": "python",
   "pygments_lexer": "ipython3",
   "version": "3.7.1"
  }
 },
 "nbformat": 4,
 "nbformat_minor": 2
}
