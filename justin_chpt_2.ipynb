{
 "cells": [
  {
   "cell_type": "markdown",
   "metadata": {},
   "source": [
    "<h1>Notes</h1>\n",
    "\n",
    "<h3>Design Principles</h3>\n",
    "<ul>Strive for loosely coupled designs between objects that interact</ul>\n",
    "<ul>Example: Interfaces between two systems (middleware) should be used to interact separately with both systems.</ul>\n",
    "\n",
    "<h3>Key Takeaways</h3>\n",
    "<ul>The Observer Pattern defines a one-to-many relationship between objects.</ul>\n",
    "<ul>Subjects, or as we also know them, Observables, update Observers using a common interface.</ul>\n",
    "<ul>Observers are loosely coupled in that the Observable knows nothing about them, other than that they implement the Observer interface.</ul>\n",
    "<ul>You can push or pull data from the Observable when using the pattern (pull is considered more 'correct'.</ul>\n",
    "<ul>Don't depend on a specific order of notification for your Observers.</ul>\n",
    "<ul>Don't be afraid to create your own Observable implementation if needed.</ul>\n",
    "\n",
    "\n",
    "<h2>Observer Pattern - defines a one-to-many dependency between objects so that when one object changes state, all its dependents are notified and updated automatically.</h2>\n",
    "\n",
    "Personal note: good integrations are a good place to see these patterns on a day to day basis."
   ]
  },
  {
   "cell_type": "code",
   "execution_count": 1,
   "metadata": {},
   "outputs": [],
   "source": [
    "\"\"\"My implementation of a Push version in Python\"\"\"\n",
    "\n",
    "class WeatherData:\n",
    "    def __init__(self, temp, humidity, pressure):\n",
    "        self.temperature = temp\n",
    "        self.humidity = humidity\n",
    "        self.pressure = pressure\n",
    "        self.observers = set()\n",
    "        \n",
    "    def register_observer(self, observer):\n",
    "        self.observers.add(observer)\n",
    "        \n",
    "    def remove_observer(self, observer):\n",
    "        self.observers.discard(observer)\n",
    "        \n",
    "    def notify_observers(self):\n",
    "        for observer in self.observers:\n",
    "            observer.update(self.temperature, self.humidity, self.pressure)\n",
    "            \n",
    "    def measurements_changed(self):\n",
    "        self.notify_observers()\n",
    "        \n",
    "    def set_measurements(self, temp, humidity, pressure):\n",
    "        self.temperature = temp\n",
    "        self.humidity = humidity\n",
    "        self.pressure = pressure\n",
    "        self.measurements_changed()\n",
    "        \n",
    "        \n",
    "class CurrentConditionDisplay:\n",
    "    def __init__(self, temp, humidity):\n",
    "        self.temperature = temp\n",
    "        self.humidity = humidity\n",
    "        \n",
    "    def update(self, temp, humidity, pressure):\n",
    "        self.temperature = temp\n",
    "        self.humidity = humidity\n",
    "        self.display()\n",
    "        \n",
    "    def display(self):\n",
    "        print(f\"Current conditions: {self.temperature}F degrees and {self.humidity}% humidity.\")\n",
    "    \n",
    "class ForecastDisplay:\n",
    "    def __init__(self, temp, humidity, pressure, city):\n",
    "        self.temperature = temp\n",
    "        self.humidity = humidity\n",
    "        self.pressure = pressure\n",
    "        self.city = city\n",
    "        \n",
    "    def update(self, temp, humidity, pressure):\n",
    "        self.temperature = temp\n",
    "        self.humidity = humidity\n",
    "        self.pressure = pressure\n",
    "        self.display()\n",
    "        \n",
    "    def display(self):\n",
    "        print(f\"Current conditions: {self.temperature}F degrees and {self.humidity}% humidity \"\n",
    "              f\"with {self.pressure} pressure in {self.city}.\")\n",
    "    \n",
    "    \n",
    "        "
   ]
  },
  {
   "cell_type": "code",
   "execution_count": 2,
   "metadata": {},
   "outputs": [
    {
     "name": "stdout",
     "output_type": "stream",
     "text": [
      "Current conditions: 85F degrees and 95% humidity with 40 pressure in Mount Juliet.\n",
      "Current conditions: 85F degrees and 95% humidity with 40 pressure in Blytheville.\n",
      "Current conditions: 85F degrees and 95% humidity.\n",
      "Current conditions: 70F degrees and 65% humidity with 20 pressure in Mount Juliet.\n"
     ]
    }
   ],
   "source": [
    "publisher = WeatherData(70.0, 90.0, 35.0)\n",
    "current_display = CurrentConditionDisplay(0.00, 0.00)\n",
    "blytheville = ForecastDisplay(0.00, 0.00, 0.00, 'Blytheville')\n",
    "mt_juliet = ForecastDisplay(0.00, 0.00, 0.00, 'Mount Juliet')\n",
    "publisher.register_observer(current_display)\n",
    "publisher.register_observer(blytheville)\n",
    "publisher.register_observer(mt_juliet)\n",
    "publisher.set_measurements(85, 95, 40)\n",
    "publisher.remove_observer(current_display)\n",
    "publisher.remove_observer(blytheville)\n",
    "publisher.set_measurements(70,65,20)"
   ]
  }
 ],
 "metadata": {
  "kernelspec": {
   "display_name": "Python 3",
   "language": "python",
   "name": "python3"
  },
  "language_info": {
   "codemirror_mode": {
    "name": "ipython",
    "version": 3
   },
   "file_extension": ".py",
   "mimetype": "text/x-python",
   "name": "python",
   "nbconvert_exporter": "python",
   "pygments_lexer": "ipython3",
   "version": "3.7.1"
  }
 },
 "nbformat": 4,
 "nbformat_minor": 2
}
