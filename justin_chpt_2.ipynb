{
 "cells": [
  {
   "cell_type": "markdown",
   "metadata": {},
   "source": [
    "<h1>Notes</h1>\n",
    "\n",
    "<h3>Design Principles</h3>\n",
    "<ul>Strive for loosely coupled designs between objects that interact</ul>\n",
    "<ul>Example: Interfaces between two systems (middleware) should be used to interact separately with both systems.</ul>\n",
    "\n",
    "<h3>Key Takeaways</h3>\n",
    "<ul>The Observer Pattern defines a one-to-many relationship between objects.</ul>\n",
    "<ul>Subjects, or as we also know them, Observables, update Observers using a common interface.</ul>\n",
    "<ul>Observers are loosely coupled in that the Observable knows nothing about them, other than that they implement the Observer interface.</ul>\n",
    "<ul>You can push or pull data from the Observable when using the pattern (pull is considered more 'correct'.</ul>\n",
    "<ul>Don't depend on a specific order of notification for your Observers.</ul>\n",
    "<ul>Don't be afraid to create your own Observable implementation if needed.</ul>\n",
    "\n",
    "\n",
    "<h2>Observer Pattern - defines a one-to-many dependency between objects so that when one object changes state, all its dependents are notified and updated automatically.</h2>\n",
    "\n",
    "Personal note: good integrations are a good place to see these patterns on a day to day basis."
   ]
  },
  {
   "cell_type": "code",
   "execution_count": 13,
   "metadata": {},
   "outputs": [
    {
     "ename": "SyntaxError",
     "evalue": "EOL while scanning string literal (<ipython-input-13-9b420989a6b0>, line 16)",
     "output_type": "error",
     "traceback": [
      "\u001b[0;36m  File \u001b[0;32m\"<ipython-input-13-9b420989a6b0>\"\u001b[0;36m, line \u001b[0;32m16\u001b[0m\n\u001b[0;31m    print(f\"{observer} was removed from notifications.\"\")\u001b[0m\n\u001b[0m                                                         ^\u001b[0m\n\u001b[0;31mSyntaxError\u001b[0m\u001b[0;31m:\u001b[0m EOL while scanning string literal\n"
     ]
    }
   ],
   "source": [
    "\"\"\"My implementation of a Push version in Python\"\"\"\n",
    "\n",
    "class WeatherData:\n",
    "    def __init__(self, temp, humidity, pressure):\n",
    "        self.temperature = temp\n",
    "        self.humidity = humidity\n",
    "        self.pressure = pressure\n",
    "        self.observers = set()\n",
    "        \n",
    "    def register_observer(self, observer):\n",
    "        self.observers.add(observer)\n",
    "        print(f\"{observer} was added successfully.\")\n",
    "        \n",
    "    def remove_observer(self, observer):\n",
    "        self.observer.discard(observer)\n",
    "        print(f\"{observer} was removed from notifications.\"\")\n",
    "        \n",
    "    def notify_observers(self):\n",
    "        for observer in self.observers:\n",
    "            observer.update(self.temperature, self.humidity, self.pressure)\n",
    "            \n",
    "    def measurements_changed(self):\n",
    "        self.notify_observers()\n",
    "        \n",
    "    def set_measurements(self, temp, humidity, pressure):\n",
    "        self.temperature = temp\n",
    "        self.humidity = humidity\n",
    "        self.pressure = pressure\n",
    "        self.measurements_changed()\n",
    "        \n",
    "        \n",
    "class CurrentConditionDisplay:\n",
    "    def __init__(self, temp, humidity):\n",
    "        self.temperature = temp\n",
    "        self.humidity = humidity\n",
    "        \n",
    "    def update(self, temp, humidity):\n",
    "        self.temperature = temp\n",
    "        self.humidity = humidity\n",
    "        self.display()\n",
    "        \n",
    "    def display(self):\n",
    "        print(f\"Current conditions: {self.temp}F degrees and {self.humidity}% humidity.\")\n",
    "    \n",
    "class ForecastDisplay:\n",
    "    def __init__(self, temp, humidity, pressure, city):\n",
    "        self.temperature = temp\n",
    "        self.humidity = humidity\n",
    "        self.pressure = pressure\n",
    "        self.city = city\n",
    "        \n",
    "    def update(self, temp, humidity, pressure):\n",
    "        self.temperature = temp\n",
    "        self.humidity = humidity\n",
    "        self.pressure = pressure\n",
    "        self.display()\n",
    "        \n",
    "    def display(self):\n",
    "        print(f\"Current conditions: {self.temperature}F degrees and {self.humidity}% humidity \"\n",
    "              f\"with {self.pressure} pressure in {self.city}.\")\n",
    "    \n",
    "    \n",
    "        "
   ]
  },
  {
   "cell_type": "code",
   "execution_count": 14,
   "metadata": {},
   "outputs": [
    {
     "ename": "TypeError",
     "evalue": "update() takes 3 positional arguments but 4 were given",
     "output_type": "error",
     "traceback": [
      "\u001b[0;31m---------------------------------------------------------------------------\u001b[0m",
      "\u001b[0;31mTypeError\u001b[0m                                 Traceback (most recent call last)",
      "\u001b[0;32m<ipython-input-14-3b0da7e79cea>\u001b[0m in \u001b[0;36m<module>\u001b[0;34m\u001b[0m\n\u001b[1;32m      6\u001b[0m \u001b[0mpublisher\u001b[0m\u001b[0;34m.\u001b[0m\u001b[0mregister_observer\u001b[0m\u001b[0;34m(\u001b[0m\u001b[0mblytheville\u001b[0m\u001b[0;34m)\u001b[0m\u001b[0;34m\u001b[0m\u001b[0;34m\u001b[0m\u001b[0m\n\u001b[1;32m      7\u001b[0m \u001b[0mpublisher\u001b[0m\u001b[0;34m.\u001b[0m\u001b[0mregister_observer\u001b[0m\u001b[0;34m(\u001b[0m\u001b[0mmt_juliet\u001b[0m\u001b[0;34m)\u001b[0m\u001b[0;34m\u001b[0m\u001b[0;34m\u001b[0m\u001b[0m\n\u001b[0;32m----> 8\u001b[0;31m \u001b[0mpublisher\u001b[0m\u001b[0;34m.\u001b[0m\u001b[0mset_measurements\u001b[0m\u001b[0;34m(\u001b[0m\u001b[0;36m85\u001b[0m\u001b[0;34m,\u001b[0m \u001b[0;36m95\u001b[0m\u001b[0;34m,\u001b[0m \u001b[0;36m40\u001b[0m\u001b[0;34m)\u001b[0m\u001b[0;34m\u001b[0m\u001b[0;34m\u001b[0m\u001b[0m\n\u001b[0m",
      "\u001b[0;32m<ipython-input-10-a3f1d6a10326>\u001b[0m in \u001b[0;36mset_measurements\u001b[0;34m(self, temp, humidity, pressure)\u001b[0m\n\u001b[1;32m     26\u001b[0m         \u001b[0mself\u001b[0m\u001b[0;34m.\u001b[0m\u001b[0mhumidity\u001b[0m \u001b[0;34m=\u001b[0m \u001b[0mhumidity\u001b[0m\u001b[0;34m\u001b[0m\u001b[0;34m\u001b[0m\u001b[0m\n\u001b[1;32m     27\u001b[0m         \u001b[0mself\u001b[0m\u001b[0;34m.\u001b[0m\u001b[0mpressure\u001b[0m \u001b[0;34m=\u001b[0m \u001b[0mpressure\u001b[0m\u001b[0;34m\u001b[0m\u001b[0;34m\u001b[0m\u001b[0m\n\u001b[0;32m---> 28\u001b[0;31m         \u001b[0mself\u001b[0m\u001b[0;34m.\u001b[0m\u001b[0mmeasurements_changed\u001b[0m\u001b[0;34m(\u001b[0m\u001b[0;34m)\u001b[0m\u001b[0;34m\u001b[0m\u001b[0;34m\u001b[0m\u001b[0m\n\u001b[0m\u001b[1;32m     29\u001b[0m \u001b[0;34m\u001b[0m\u001b[0m\n\u001b[1;32m     30\u001b[0m \u001b[0;34m\u001b[0m\u001b[0m\n",
      "\u001b[0;32m<ipython-input-10-a3f1d6a10326>\u001b[0m in \u001b[0;36mmeasurements_changed\u001b[0;34m(self)\u001b[0m\n\u001b[1;32m     20\u001b[0m \u001b[0;34m\u001b[0m\u001b[0m\n\u001b[1;32m     21\u001b[0m     \u001b[0;32mdef\u001b[0m \u001b[0mmeasurements_changed\u001b[0m\u001b[0;34m(\u001b[0m\u001b[0mself\u001b[0m\u001b[0;34m)\u001b[0m\u001b[0;34m:\u001b[0m\u001b[0;34m\u001b[0m\u001b[0;34m\u001b[0m\u001b[0m\n\u001b[0;32m---> 22\u001b[0;31m         \u001b[0mself\u001b[0m\u001b[0;34m.\u001b[0m\u001b[0mnotify_observers\u001b[0m\u001b[0;34m(\u001b[0m\u001b[0;34m)\u001b[0m\u001b[0;34m\u001b[0m\u001b[0;34m\u001b[0m\u001b[0m\n\u001b[0m\u001b[1;32m     23\u001b[0m \u001b[0;34m\u001b[0m\u001b[0m\n\u001b[1;32m     24\u001b[0m     \u001b[0;32mdef\u001b[0m \u001b[0mset_measurements\u001b[0m\u001b[0;34m(\u001b[0m\u001b[0mself\u001b[0m\u001b[0;34m,\u001b[0m \u001b[0mtemp\u001b[0m\u001b[0;34m,\u001b[0m \u001b[0mhumidity\u001b[0m\u001b[0;34m,\u001b[0m \u001b[0mpressure\u001b[0m\u001b[0;34m)\u001b[0m\u001b[0;34m:\u001b[0m\u001b[0;34m\u001b[0m\u001b[0;34m\u001b[0m\u001b[0m\n",
      "\u001b[0;32m<ipython-input-10-a3f1d6a10326>\u001b[0m in \u001b[0;36mnotify_observers\u001b[0;34m(self)\u001b[0m\n\u001b[1;32m     17\u001b[0m     \u001b[0;32mdef\u001b[0m \u001b[0mnotify_observers\u001b[0m\u001b[0;34m(\u001b[0m\u001b[0mself\u001b[0m\u001b[0;34m)\u001b[0m\u001b[0;34m:\u001b[0m\u001b[0;34m\u001b[0m\u001b[0;34m\u001b[0m\u001b[0m\n\u001b[1;32m     18\u001b[0m         \u001b[0;32mfor\u001b[0m \u001b[0mobserver\u001b[0m \u001b[0;32min\u001b[0m \u001b[0mself\u001b[0m\u001b[0;34m.\u001b[0m\u001b[0mobservers\u001b[0m\u001b[0;34m:\u001b[0m\u001b[0;34m\u001b[0m\u001b[0;34m\u001b[0m\u001b[0m\n\u001b[0;32m---> 19\u001b[0;31m             \u001b[0mobserver\u001b[0m\u001b[0;34m.\u001b[0m\u001b[0mupdate\u001b[0m\u001b[0;34m(\u001b[0m\u001b[0mself\u001b[0m\u001b[0;34m.\u001b[0m\u001b[0mtemperature\u001b[0m\u001b[0;34m,\u001b[0m \u001b[0mself\u001b[0m\u001b[0;34m.\u001b[0m\u001b[0mhumidity\u001b[0m\u001b[0;34m,\u001b[0m \u001b[0mself\u001b[0m\u001b[0;34m.\u001b[0m\u001b[0mpressure\u001b[0m\u001b[0;34m)\u001b[0m\u001b[0;34m\u001b[0m\u001b[0;34m\u001b[0m\u001b[0m\n\u001b[0m\u001b[1;32m     20\u001b[0m \u001b[0;34m\u001b[0m\u001b[0m\n\u001b[1;32m     21\u001b[0m     \u001b[0;32mdef\u001b[0m \u001b[0mmeasurements_changed\u001b[0m\u001b[0;34m(\u001b[0m\u001b[0mself\u001b[0m\u001b[0;34m)\u001b[0m\u001b[0;34m:\u001b[0m\u001b[0;34m\u001b[0m\u001b[0;34m\u001b[0m\u001b[0m\n",
      "\u001b[0;31mTypeError\u001b[0m: update() takes 3 positional arguments but 4 were given"
     ]
    }
   ],
   "source": [
    "publisher = WeatherData(70.0, 90.0, 35.0)\n",
    "current_display = CurrentConditionDisplay(0.00, 0.00)\n",
    "blytheville = ForecastDisplay(0.00, 0.00, 0.00, 'Blytheville')\n",
    "mt_juliet = ForecastDisplay(0.00, 0.00, 0.00, 'Mount Juliet')\n",
    "publisher.register_observer(current_display)\n",
    "publisher.register_observer(blytheville)\n",
    "publisher.register_observer(mt_juliet)\n",
    "publisher.set_measurements(85, 95, 40)"
   ]
  },
  {
   "cell_type": "code",
   "execution_count": null,
   "metadata": {},
   "outputs": [],
   "source": []
  },
  {
   "cell_type": "code",
   "execution_count": null,
   "metadata": {},
   "outputs": [],
   "source": []
  }
 ],
 "metadata": {
  "kernelspec": {
   "display_name": "Python 3",
   "language": "python",
   "name": "python3"
  },
  "language_info": {
   "codemirror_mode": {
    "name": "ipython",
    "version": 3
   },
   "file_extension": ".py",
   "mimetype": "text/x-python",
   "name": "python",
   "nbconvert_exporter": "python",
   "pygments_lexer": "ipython3",
   "version": "3.7.1"
  }
 },
 "nbformat": 4,
 "nbformat_minor": 2
}
