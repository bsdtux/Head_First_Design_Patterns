{
 "cells": [
  {
   "cell_type": "markdown",
   "metadata": {},
   "source": [
    "# Intro to Design Patterns: Welcome to Design Patterns\n",
    "This Notebook contains the notes and experiements of chapter 1 from the Head First Design Patterns notebook. "
   ]
  },
  {
   "cell_type": "markdown",
   "metadata": {},
   "source": [
    "## Terms / Glossary / Concepts"
   ]
  },
  {
   "cell_type": "markdown",
   "metadata": {},
   "source": [
    "* Encapsulate what varies.\n",
    "    * In the example of the book, the Fly behavior would work for a Mallard Duck \n",
    "    but not so well for a rubber duck or even a decoy duck. \n",
    "    * Same goes for a Quack method. A rubber duckey squeacks but a Mallard duck quacks.  \n",
    "    A decoy does neither. \n",
    "* Favor composition over inheritance\n",
    "    * Act of putting two classes together. \n",
    "    * Example in the book was Ducks with a specific Fly and Quack behavior because Fly and Quack were not implemented at the duck super class but as their own classes\n",
    "* Program to an interface\n",
    "    * Does not mean you have to use the actual interface keyword. Just means a higher level \n",
    "    supertype\n",
    "    * Great example is your wall socket. My ipad plugs into the same socket as my toaster and \n",
    "    they can get power either from the grid or if I have solar. Either way the plugin hides\n",
    "    how the implementation of me getting power is achieved\n",
    "\n",
    "### OO Pattern\n",
    "Strategy (AKA Policy Pattern)\n",
    "    * Behavior Pattern\n",
    "    * Grants a class the ability to use different procedures / algorithms to accomplish the same\n",
    "    task\n",
    "    * Use this when you need the interface to have the ablilty to accomplish the same task but\n",
    "    in different ways. Like saving a file. Maybe you want to save it as a CSV, or JSON, or XML,\n",
    "    or XLSX\n",
    "\n",
    "    \n",
    "* Patterns provide a shared language amongst teams and let us focus on the higher level details\n",
    "Not the nitty gritty\n",
    "\n",
    "* IS-A, HAS-A, IMPLEMENTS\n",
    "    * Mallard Duck is a Duck\n",
    "    * Mallard Duck and Rubber Duck has a sound\n",
    "    * Squeack implements a QuackBehavior"
   ]
  },
  {
   "cell_type": "markdown",
   "metadata": {},
   "source": [
    "## Exercises"
   ]
  },
  {
   "cell_type": "code",
   "execution_count": null,
   "metadata": {},
   "outputs": [],
   "source": []
  },
  {
   "cell_type": "markdown",
   "metadata": {},
   "source": [
    "## Brain Power"
   ]
  },
  {
   "cell_type": "code",
   "execution_count": 16,
   "metadata": {},
   "outputs": [
    {
     "name": "stdout",
     "output_type": "stream",
     "text": [
      "QUACK QUACK QUACK!!!\n",
      "Quack Help me, Quack Help me, Quack Help me!!!\n"
     ]
    }
   ],
   "source": [
    "\"\"\"Implementing my own Duck Call\"\"\"\n",
    "from abc import ABC, abstractmethod\n",
    "class QuackSound(ABC):\n",
    "    \"\"\"Abstract Quacking Class\"\"\"\n",
    "    @abstractmethod\n",
    "    def make_sound(self):\n",
    "        pass\n",
    "\n",
    "class LoudQuack(QuackSound):\n",
    "    \"\"\"Loud Quacking Class\"\"\"\n",
    "    def __init__(self):\n",
    "        self.sound = 'QUACK QUACK QUACK!!!'\n",
    "    def make_sound(self):\n",
    "        \"\"\"makes a very loud sound\"\"\"\n",
    "        print(self.sound)\n",
    "\n",
    "class WoundedQuack(QuackSound):\n",
    "    \"\"\"Wounded Duck Class\"\"\"\n",
    "    def __init__(self):\n",
    "        self.sound = 'Quack Help me, Quack Help me, Quack Help me!!!'\n",
    "    def make_sound(self):\n",
    "        print(self.sound)\n",
    "\n",
    "class DuckCall:\n",
    "    def __init__(self, sound: QuackSound):\n",
    "        self.sound = sound\n",
    "    def make_sound(self):\n",
    "        self.sound.make_sound()\n",
    "    def change_sound(self, sound: QuackSound):\n",
    "        self.sound = sound\n",
    "\n",
    "d = DuckCall(LoudQuack())\n",
    "d.make_sound()\n",
    "d.change_sound(WoundedQuack())\n",
    "d.make_sound()"
   ]
  },
  {
   "cell_type": "markdown",
   "metadata": {},
   "source": [
    "## Sharpen Your Pencil"
   ]
  },
  {
   "cell_type": "markdown",
   "metadata": {},
   "source": [
    "Disadvantages to inheritance\n",
    "    * Code is duplicated accross subclasses\n",
    "    * Runtime behavior changes are difficult\n",
    "    * hard to gain knowledge of all duck behaviors\n",
    "    * Change can have unintended side effects\n",
    " \n",
    "What are reasons for change\n",
    "    * Requirements found to be lacking, or incorrect\n",
    "    * Outdated concept\n",
    "    * Addition of a feature / request\n",
    "    * Reliance on library or technology that doesn't do what you thought or has deprecated\n",
    "\n",
    "Shared qualities getting communicated with \"Strategy Pattern\"\n",
    "    * We can use the shared behaviors of the strategy pattern\n",
    "    * Allowing us to use a single behavior name in one place\n"
   ]
  },
  {
   "cell_type": "markdown",
   "metadata": {},
   "source": [
    "## In My Own Words"
   ]
  },
  {
   "cell_type": "markdown",
   "metadata": {},
   "source": [
    "* design patterns are not concerend with the concrete implementation as they are more of a mental model"
   ]
  },
  {
   "cell_type": "code",
   "execution_count": 17,
   "metadata": {},
   "outputs": [
    {
     "name": "stdout",
     "output_type": "stream",
     "text": [
      "I am saving My_Super_Secret_File as My_Super_Secret_File.xlsx file.\n",
      "I am saving My_Super_Secret_File as My_Super_Secret_File.csv file\n"
     ]
    }
   ],
   "source": [
    "\"\"\"My Own made up example. Say I am building a File processor \n",
    "but want to save in different formats\"\"\"\n",
    "from abc import ABC, abstractmethod\n",
    "\n",
    "\n",
    "class WriterBehavior(ABC):\n",
    "    @abstractmethod\n",
    "    def save_file(filename: str):\n",
    "        raise NotImplementedError('Not implemented here')\n",
    "\n",
    "class CSVWriter(WriterBehavior):\n",
    "    @staticmethod\n",
    "    def save_file(filename: str):\n",
    "        print(f\"I am saving {filename} as {filename}.csv file\")\n",
    "\n",
    "class XLSXWriter(WriterBehavior):\n",
    "    @staticmethod\n",
    "    def save_file(filename: str):\n",
    "        print(f\"I am saving {filename} as {filename}.xlsx file.\")\n",
    "\n",
    "\n",
    "class File:\n",
    "    def __init__(self, name: str, writer: WriterBehavior):\n",
    "        self.name = name\n",
    "        self.writer = writer\n",
    "    def save(self):\n",
    "        self.writer.save_file(self.name)\n",
    "    def set_writer(self, writer: WriterBehavior):\n",
    "        self.writer = writer\n",
    "\n",
    "f = File('My_Super_Secret_File', XLSXWriter)\n",
    "f.save()\n",
    "f.set_writer(CSVWriter())\n",
    "f.save()"
   ]
  }
 ],
 "metadata": {
  "kernelspec": {
   "display_name": "Python 3",
   "language": "python",
   "name": "python3"
  },
  "language_info": {
   "codemirror_mode": {
    "name": "ipython",
    "version": 3
   },
   "file_extension": ".py",
   "mimetype": "text/x-python",
   "name": "python",
   "nbconvert_exporter": "python",
   "pygments_lexer": "ipython3",
   "version": "3.7.1"
  }
 },
 "nbformat": 4,
 "nbformat_minor": 2
}
