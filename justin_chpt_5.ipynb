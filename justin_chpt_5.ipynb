{
 "cells": [
  {
   "cell_type": "markdown",
   "metadata": {},
   "source": [
    "<h1>Notes</h1>\n",
    "\n",
    "<h3>Design Principles</h3> \n",
    "<ul>Encapsulate what varies.</ul>\n",
    "<ul>Favor composition over inheritance.</ul>\n",
    "<ul>Program to interfaces, not implementations.</ul>\n",
    "<ul>Strive for loosely coupled designs between objects that interact.</ul>\n",
    "<ul>Classes should be open for extension but closed for modification.</ul>\n",
    "<ul>Depend on abstractions.  Do not depend on concrete classes.</ul>\n",
    "\n",
    "<h2>Singleton Pattern - ensures that a class has only one instance, and provides a global point of access to it.</h2>\n",
    "\n",
    "<h3>Bullet Points</h3>\n",
    "<ul>The Singleton Pattern ensures you have at most one instance of a class in your application.</ul>\n",
    "<ul>The Singleton Pattern also provides a global access point to that instance.</ul>\n",
    "<ul>Examine your performance and resource constraints and carefully choose an appropriate Singleton implementation for multithreaded applications (and we should consider all applications multithreaded!).</ul>\n",
    "<ul>Be careful if you are using multiple class loaders; this could defeat the Singleton implementation and result in multiple instances.</ul>\n"
   ]
  },
  {
   "cell_type": "code",
   "execution_count": 10,
   "metadata": {},
   "outputs": [],
   "source": [
    "class Singleton:\n",
    "    def __new__(cls):\n",
    "        if not hasattr(cls, 'instance'):\n",
    "            cls.instance = super(Singleton, cls).__new__(cls)\n",
    "        return cls.instance"
   ]
  },
  {
   "cell_type": "code",
   "execution_count": 13,
   "metadata": {},
   "outputs": [
    {
     "name": "stdout",
     "output_type": "stream",
     "text": [
      "<__main__.Singleton object at 0x10c30a208>\n",
      "<__main__.Singleton object at 0x10c30a208>\n",
      "4499481096\n",
      "4499481096\n"
     ]
    }
   ],
   "source": [
    "x = Singleton()\n",
    "print(x)\n",
    "y = Singleton()\n",
    "print(y)\n",
    "print(id(x))\n",
    "print(id(y))"
   ]
  }
 ],
 "metadata": {
  "kernelspec": {
   "display_name": "Python 3",
   "language": "python",
   "name": "python3"
  },
  "language_info": {
   "codemirror_mode": {
    "name": "ipython",
    "version": 3
   },
   "file_extension": ".py",
   "mimetype": "text/x-python",
   "name": "python",
   "nbconvert_exporter": "python",
   "pygments_lexer": "ipython3",
   "version": "3.7.1"
  }
 },
 "nbformat": 4,
 "nbformat_minor": 2
}
