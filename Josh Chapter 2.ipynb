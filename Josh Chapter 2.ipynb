{
 "cells": [
  {
   "cell_type": "markdown",
   "metadata": {
    "collapsed": true
   },
   "source": [
    "# OBSERVER PATTERN\n",
    "this chapter deals with the observer pattern. "
   ]
  },
  {
   "cell_type": "markdown",
   "metadata": {},
   "source": [
    "## Terms / Glossary / Concepts"
   ]
  },
  {
   "cell_type": "markdown",
   "metadata": {},
   "source": [
    "* Observer pattern defines a one (subject) to many (subscribers / observers)\n",
    "* Think of pattern like a magazine subscription that you have. Subject creates the content and I as the subscriber gets the latest info when it is shipped (content updated)\n",
    "* Observers and observable should be lossely coupled. \n",
    "* Push or Pull mechanisim (pull considered more correct)\n",
    "* Great example of real life usage is GUI Frameworks \n"
   ]
  },
  {
   "cell_type": "code",
   "execution_count": 41,
   "metadata": {},
   "outputs": [],
   "source": [
    "\"\"\"Implementation of the Weather Station Example in Python\"\"\"\n",
    "from abc import ABCMeta, abstractmethod\n",
    "class AbstractPublisher(metaclass=ABCMeta):\n",
    "    @abstractmethod\n",
    "    def register_subscriber():\n",
    "        pass\n",
    "    @abstractmethod\n",
    "    def remove_subscriber():\n",
    "        pass\n",
    "    @abstractmethod\n",
    "    def notify_subscribers():\n",
    "        pass\n",
    "\n",
    "class AbstractSubscriber(metaclass=ABCMeta):\n",
    "    @abstractmethod\n",
    "    def update():\n",
    "        pass\n",
    "    @abstractmethod\n",
    "    def display():\n",
    "        pass\n",
    "    \n",
    "class WeatherData(AbstractPublisher):\n",
    "    def __init__(self, temp, humidity, pressure):\n",
    "        self.temp = temp\n",
    "        self.humidity = humidity\n",
    "        self.pressure = pressure\n",
    "        self.subscribers = set()\n",
    "    \n",
    "    def register_subscriber(self, subscriber):\n",
    "        self.subscribers.add(subscriber)\n",
    "    \n",
    "    def remove_subscriber(self, subscriber):\n",
    "        self.subscribers.discard(subscriber)\n",
    "    \n",
    "    def notify_subscribers(self):\n",
    "        for subscriber in self.subscribers:\n",
    "            subscriber.update(self.temp, self.humidity, self.pressure)\n",
    "    \n",
    "    def measurements_changed(self):\n",
    "        self.notify_subscribers()\n",
    "    \n",
    "    def set_measurements(self, temp, humidity, pressure):\n",
    "        self.temp = temp\n",
    "        self.humidity = humidity\n",
    "        self.pressure = pressure\n",
    "        self.measurements_changed()\n",
    "\n",
    "class CurrentConditionDisplay(AbstractSubscriber):\n",
    "    def __init__(self, temp, humidity):\n",
    "        self.temp = temp\n",
    "        self.humidity = humidity\n",
    "        \n",
    "    def update(self, temp, humidity, pressure):\n",
    "        self.temp = temp\n",
    "        self.humidity = humidity\n",
    "        self.display()\n",
    "    \n",
    "    def display(self):\n",
    "        print(f\"Current Conditions: temp {self.temp} degress F with humidity of {self.humidity}\")\n",
    "    \n",
    "class ForecastDisplay(AbstractSubscriber):\n",
    "    def __init__(self, temp, humidity, pressure, city):\n",
    "        self.temp = temp\n",
    "        self.humidity = humidity\n",
    "        self.pressure = pressure\n",
    "        self.city = city\n",
    "    \n",
    "    def update(self, temp, humidity, pressure):\n",
    "        self.temp = temp\n",
    "        self.humidity = humidity\n",
    "        self.pressure = pressure\n",
    "        self.display()\n",
    "    \n",
    "    def display(self):\n",
    "        print(f\"Current Conditions in {self.city}: temp {self.temp} degress F \"\n",
    "              f\"with humidity of {self.humidity} with a pressure of {self.pressure}\")\n",
    "        "
   ]
  },
  {
   "cell_type": "code",
   "execution_count": 43,
   "metadata": {},
   "outputs": [
    {
     "name": "stdout",
     "output_type": "stream",
     "text": [
      "Current Conditions in Nashville: temp 80 degress F with humidity of 65 with a pressure of 34\n",
      "Current Conditions: temp 80 degress F with humidity of 65\n",
      "Current Conditions in Memphis: temp 80 degress F with humidity of 65 with a pressure of 34\n",
      "Current Conditions in Nashville: temp 73 degress F with humidity of 70 with a pressure of 70\n"
     ]
    }
   ],
   "source": [
    "pub = WeatherData(0.00, 0.00, 0.00)\n",
    "current_display = CurrentConditionDisplay(0.00, 0.00)\n",
    "nashville = ForecastDisplay(0.00, 0.00, 0.00, 'Nashville')\n",
    "memphis = ForecastDisplay(0.00, 0.00, 0.00, 'Memphis')\n",
    "pub.register_subscriber(current_display)\n",
    "pub.register_subscriber(nashville)\n",
    "pub.register_subscriber(memphis)\n",
    "pub.set_measurements(80, 65, 34)\n",
    "pub.remove_subscriber(current_display)\n",
    "pub.remove_subscriber(memphis)\n",
    "pub.set_measurements(73, 70, 70)\n"
   ]
  },
  {
   "cell_type": "code",
   "execution_count": 31,
   "metadata": {},
   "outputs": [],
   "source": [
    "\"\"\"My implementation of the Push version in Python\"\"\"\n",
    "\n",
    "class Publisher:\n",
    "    def __init__(self):\n",
    "        self.subscribers = set()\n",
    "        self.issue_number = 0\n",
    "    def add_subscriber(self, subscriber):\n",
    "        self.subscribers.add(subscriber)\n",
    "    def remove_subscriber(self, subscriber):\n",
    "        self.subscribers.discard(subscriber)\n",
    "    def increment_issue(self):\n",
    "        self.issue_number += 1\n",
    "        self.notify_subscribers()\n",
    "    def notify_subscribers(self):\n",
    "        for subscriber in self.subscribers:\n",
    "            subscriber.update(f\"Issue has been updates to {self.issue_number}\")\n",
    "\n",
    "\n",
    "class Subscriber:\n",
    "    def __init__(self, name):\n",
    "        self.name = name\n",
    "    def update(self, message):\n",
    "        print(f\"Hello {self.name} we just received word of a new message '{message}'\")\n",
    "    def __eq__(self, other):\n",
    "        return other.name == self.name\n",
    "    def __hash__(self):\n",
    "        return hash(self.name)\n"
   ]
  },
  {
   "cell_type": "code",
   "execution_count": 32,
   "metadata": {},
   "outputs": [
    {
     "name": "stdout",
     "output_type": "stream",
     "text": [
      "Hello Bob we just received word of a new message 'Issue has been updates to 1'\n",
      "Hello Sandy we just received word of a new message 'Issue has been updates to 1'\n",
      "Hello Sandy we just received word of a new message 'Issue has been updates to 2'\n",
      "Hello Sandy we just received word of a new message 'Issue has been updates to 3'\n",
      "Hello Larry we just received word of a new message 'Issue has been updates to 4'\n",
      "Hello Bob we just received word of a new message 'Issue has been updates to 4'\n",
      "Hello Sandy we just received word of a new message 'Issue has been updates to 4'\n"
     ]
    }
   ],
   "source": [
    "pub = Publisher()\n",
    "pub.add_subscriber(Subscriber('Sandy'))\n",
    "pub.add_subscriber(Subscriber('Bob'))\n",
    "pub.increment_issue()\n",
    "pub.remove_subscriber(Subscriber('Bob'))\n",
    "pub.increment_issue()\n",
    "pub.increment_issue()\n",
    "pub.add_subscriber(Subscriber('Larry'))\n",
    "pub.add_subscriber(Subscriber('Larry'))\n",
    "pub.add_subscriber(Subscriber('Bob'))\n",
    "pub.increment_issue()"
   ]
  },
  {
   "cell_type": "code",
   "execution_count": null,
   "metadata": {},
   "outputs": [],
   "source": []
  }
 ],
 "metadata": {
  "kernelspec": {
   "display_name": "Python 3",
   "language": "python",
   "name": "python3"
  },
  "language_info": {
   "codemirror_mode": {
    "name": "ipython",
    "version": 3
   },
   "file_extension": ".py",
   "mimetype": "text/x-python",
   "name": "python",
   "nbconvert_exporter": "python",
   "pygments_lexer": "ipython3",
   "version": "3.7.1"
  }
 },
 "nbformat": 4,
 "nbformat_minor": 1
}
