{
 "cells": [
  {
   "cell_type": "markdown",
   "metadata": {},
   "source": [
    "# The Singleton Pattern\n",
    "This Notebook contains the notes and experiements of chapter 5 from the Head First Design Patterns notebook. "
   ]
  },
  {
   "cell_type": "markdown",
   "metadata": {},
   "source": [
    "## Terms / Glossary / Concepts"
   ]
  },
  {
   "cell_type": "markdown",
   "metadata": {},
   "source": [
    "* The Singleton allows us to instantiate one and onle one object\n",
    "* Cases of needing a single object\n",
    "    * Thread Pools\n",
    "    * Caches\n",
    "    * dialog boxes\n",
    "    * settings objects\n",
    "    * Database handlers\n",
    "    * File handlers\n",
    "\n",
    "## OOP Pattern\n",
    "Singleton - Ensure a class only has one instance and provide a global point of access to it"
   ]
  },
  {
   "cell_type": "markdown",
   "metadata": {},
   "source": [
    "## Exercises"
   ]
  },
  {
   "cell_type": "code",
   "execution_count": 14,
   "metadata": {},
   "outputs": [
    {
     "name": "stdout",
     "output_type": "stream",
     "text": [
      "4571814936\n",
      "4571814936\n",
      "Must call using get_instance\n",
      "Must be called using get_boiler\n",
      "Filling...\n",
      "False\n",
      "False\n",
      "Boiling...\n",
      "False\n",
      "True\n",
      "Draining...\n",
      "True\n",
      "True\n"
     ]
    }
   ],
   "source": [
    "class DB:\n",
    "    __instance = None\n",
    "    @staticmethod\n",
    "    def get_instance(dbhost, dbuser, dbpass, dbport, dbname):\n",
    "        if not DB.__instance:\n",
    "            DB(dbhost, dbuser, dbpass, dbport, dbname)\n",
    "        return DB.__instance\n",
    "            \n",
    "    def __init__(self, dbhost, dbuser, dbpass, dbport, dbname):\n",
    "        if DB.__instance:\n",
    "            raise Exception('Must call using get_instance')\n",
    "            \n",
    "        self.db_host = dbhost\n",
    "        self.db_user = dbuser\n",
    "        self.db_pass = dbpass\n",
    "        self.db_port = dbport\n",
    "        self.db_name = dbname\n",
    "        DB.__instance = self\n",
    "        \n",
    "db1 = DB.get_instance('127.0.0.1', 'user', 'somepass', '3306', 'test')\n",
    "db2 = DB.get_instance('127.0.0.1', 'user', 'somepass', '3306', 'test')\n",
    "print(id(db1))\n",
    "print(id(db2))\n",
    "try:\n",
    "    db3 = DB('127.0.0.1', 'user', 'somepass', '3306', 'test')\n",
    "except Exception as exc:\n",
    "    print(str(exc))\n",
    "\n",
    "class ChocolateBoiler:\n",
    "    __instance = None\n",
    "    \n",
    "    @property\n",
    "    def is_empty(self):\n",
    "        return self.empty\n",
    "    \n",
    "    @property\n",
    "    def is_boiled(self):\n",
    "        return self.boiled\n",
    "    \n",
    "    @staticmethod\n",
    "    def get_boiler():\n",
    "        if not ChocolateBoiler.__instance:\n",
    "            ChocolateBoiler()\n",
    "        return ChocolateBoiler.__instance\n",
    "    \n",
    "    def __init__(self):\n",
    "        if ChocolateBoiler.__instance:\n",
    "            raise Exception('Must be called using get_boiler')\n",
    "        self.empty = True\n",
    "        self.boiled = False\n",
    "        \n",
    "        ChocolateBoiler.__instance = self\n",
    "    \n",
    "    def fill(self):\n",
    "        if self.is_empty:\n",
    "            self.empty = False\n",
    "            self.boiled = False\n",
    "    \n",
    "    def drain(self):\n",
    "        if not self.is_empty and self.is_boiled:\n",
    "            self.empty = True\n",
    "    \n",
    "    def boil(self):\n",
    "        if not self.is_empty and not self.is_boiled:\n",
    "            self.boiled = True\n",
    "\n",
    "cb = ChocolateBoiler.get_boiler()\n",
    "try:\n",
    "    cb2 = ChocolateBoiler()\n",
    "except Exception as exc:\n",
    "    print(str(exc))\n",
    "cb.fill()\n",
    "print('Filling...')\n",
    "print(cb.is_empty)\n",
    "print(cb.is_boiled)\n",
    "cb.boil()\n",
    "print('Boiling...')\n",
    "print(cb.is_empty)\n",
    "print(cb.is_boiled)\n",
    "cb.drain()\n",
    "print('Draining...')\n",
    "print(cb.is_empty)\n",
    "print(cb.is_boiled)"
   ]
  },
  {
   "cell_type": "markdown",
   "metadata": {},
   "source": [
    "## Brain Power"
   ]
  },
  {
   "cell_type": "markdown",
   "metadata": {},
   "source": [
    "Q: How can the ChocolateBoiler go wrong with one or more instance\n",
    "A: If they have only one boiler but multiple instance then the settings could get off causing a boiler malfunction\n",
    "\n"
   ]
  },
  {
   "cell_type": "markdown",
   "metadata": {},
   "source": [
    "## Sharpen Your Pencil"
   ]
  },
  {
   "cell_type": "markdown",
   "metadata": {},
   "source": []
  },
  {
   "cell_type": "markdown",
   "metadata": {},
   "source": [
    "## In My Own Words"
   ]
  },
  {
   "cell_type": "markdown",
   "metadata": {},
   "source": []
  },
  {
   "cell_type": "code",
   "execution_count": null,
   "metadata": {},
   "outputs": [],
   "source": []
  },
  {
   "cell_type": "code",
   "execution_count": null,
   "metadata": {},
   "outputs": [],
   "source": []
  }
 ],
 "metadata": {
  "kernelspec": {
   "display_name": "Python 3",
   "language": "python",
   "name": "python3"
  },
  "language_info": {
   "codemirror_mode": {
    "name": "ipython",
    "version": 3
   },
   "file_extension": ".py",
   "mimetype": "text/x-python",
   "name": "python",
   "nbconvert_exporter": "python",
   "pygments_lexer": "ipython3",
   "version": "3.7.1"
  }
 },
 "nbformat": 4,
 "nbformat_minor": 2
}
