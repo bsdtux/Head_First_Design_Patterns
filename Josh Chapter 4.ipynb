{
 "cells": [
  {
   "cell_type": "markdown",
   "metadata": {},
   "source": [
    "# The Factory Pattern\n",
    "This Notebook contains the notes and experiements of chapter 4 from the Head First Design Patterns notebook. "
   ]
  },
  {
   "cell_type": "markdown",
   "metadata": {},
   "source": [
    "## Terms / Glossary / Concepts"
   ]
  },
  {
   "cell_type": "markdown",
   "metadata": {},
   "source": [
    "* When you see \"new\" think \"concrete\" which is an implementation and not an interface\n",
    "* Remember identify what varies and separate them from what stays the same\n",
    "* Reminder that interface doesn't mean an actual interface but more of some kind of supertype like interface or class\n",
    "\n",
    "## Factory Pattern\n",
    "* Factories handle the details of object creation.\n",
    "* defines an interface for creating objects but lets subclasses decide which class to instantiate \n",
    "\n",
    "## Abstract Factory\n",
    "* provides an interface for creating families of related or dependent objects without specifying their concrete classes\n",
    "\n",
    "## DESIGN PRINCIPLE\n",
    "* Depend upon abstractions do not depend upon concrete classes"
   ]
  },
  {
   "cell_type": "markdown",
   "metadata": {},
   "source": [
    "## Exercises"
   ]
  },
  {
   "cell_type": "code",
   "execution_count": 12,
   "metadata": {},
   "outputs": [
    {
     "name": "stdout",
     "output_type": "stream",
     "text": [
      "cheese\n",
      "stuff crust\n",
      "preparing your Chicago deep dish cheese pizza\n",
      "baking your pizza...\n",
      "cutting your pizza...\n",
      "boxing your pizza now...\n",
      "preparing your New York style cheese pizza\n",
      "baking your pizza...\n",
      "cutting your pizza...\n",
      "boxing your pizza now...\n"
     ]
    }
   ],
   "source": [
    "\"\"\"Simple Pizza Factory\"\"\"\n",
    "from abc import ABCMeta, abstractclassmethod\n",
    "class Pizza:\n",
    "    def __init__(self, pizza_type: str = ''):\n",
    "        self.name = pizza_type\n",
    "    \n",
    "    def prepare(self):\n",
    "        print('preparing your ' + self.name)\n",
    "    \n",
    "    def bake(self):\n",
    "        print('baking your pizza...')\n",
    "    \n",
    "    def cut(self):\n",
    "        print('cutting your pizza...')\n",
    "    \n",
    "    def box(self):\n",
    "        print('boxing your pizza now...')\n",
    "        \n",
    "class PizzaFactory:\n",
    "    def create(self, pizza: str = ''):\n",
    "        if pizza.lower() == '':\n",
    "            pizza = Pizza('cheese')\n",
    "        else:\n",
    "            pizza = Pizza(pizza)\n",
    "        return pizza\n",
    "\n",
    "class PizzaStore:\n",
    "    def __init__(self, pizza_type: str = ''):\n",
    "        self.pizza = PizzaFactory().create(pizza=pizza_type)\n",
    "\n",
    "pizza = PizzaStore('cheese')\n",
    "pizza2 = PizzaStore('stuff crust')\n",
    "print(pizza.pizza.name)\n",
    "print(pizza2.pizza.name)\n",
    "\n",
    "\n",
    "\"\"\" Pizza Store Expanded \"\"\"\n",
    "class PizzaStore(metaclass=ABCMeta):\n",
    "    @abstractclassmethod\n",
    "    def create_pizza(self):\n",
    "        raise NotImplementedError(\"create_pizza method not defined\")\n",
    "    def order_pizza(self, pizza_type: str = ''):\n",
    "        pizza = self.create_pizza(pizza_type)\n",
    "        pizza.prepare()\n",
    "        pizza.bake()\n",
    "        pizza.cut()\n",
    "        pizza.box()\n",
    "        \n",
    "class NYPizzaStore(PizzaStore):\n",
    "    def create_pizza(self, pizza_type):\n",
    "        pizza = PizzaFactory().create('New York style ' + pizza_type + ' pizza')\n",
    "        return pizza\n",
    "\n",
    "class ChicagoPizzaStore(PizzaStore):\n",
    "    def create_pizza(self, pizza_type: str = ''):\n",
    "        pizza = PizzaFactory().create('Chicago deep dish ' + pizza_type + ' pizza')\n",
    "        return pizza\n",
    "        \n",
    "pizza = ChicagoPizzaStore().order_pizza('cheese')\n",
    "pizza = NYPizzaStore().order_pizza('cheese')"
   ]
  }
 ],
 "metadata": {
  "kernelspec": {
   "display_name": "Python 3",
   "language": "python",
   "name": "python3"
  },
  "language_info": {
   "codemirror_mode": {
    "name": "ipython",
    "version": 3
   },
   "file_extension": ".py",
   "mimetype": "text/x-python",
   "name": "python",
   "nbconvert_exporter": "python",
   "pygments_lexer": "ipython3",
   "version": "3.7.1"
  }
 },
 "nbformat": 4,
 "nbformat_minor": 2
}
