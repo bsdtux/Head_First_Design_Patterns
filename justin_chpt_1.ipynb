{
 "cells": [
  {
   "cell_type": "markdown",
   "metadata": {},
   "source": [
    "<h1>Notes</h1>"
   ]
  },
  {
   "cell_type": "markdown",
   "metadata": {},
   "source": [
    "<h3>Design Principles</h3>\n",
    "<ul>Identify the aspects of your application that vary and separate them from what stays the same.(pg. 9)</ul>\n",
    "<ul>Program to an interface, not an implementation. (pg.11)</ul>\n",
    "<ul>Favor composition over inheritance. (pg. 23)</ul>\n",
    "\n",
    "<h3>Key Takeaways</h3>\n",
    "<ul>Encapsulate what varies</ul>\n",
    "<ul>Favor composition over inheritance</ul>\n",
    "<ul>Progra to interfaces, not implementations</ul>\n",
    "\n",
    "<h2>Strategy Pattern - defines a family of algorithms, encapsulates each one, and makes them interchangeable.  Strategy lets the algorithm variy independently from clients that use it.</h2>"
   ]
  },
  {
   "cell_type": "code",
   "execution_count": null,
   "metadata": {},
   "outputs": [],
   "source": []
  }
 ],
 "metadata": {
  "kernelspec": {
   "display_name": "Python 3",
   "language": "python",
   "name": "python3"
  },
  "language_info": {
   "codemirror_mode": {
    "name": "ipython",
    "version": 3
   },
   "file_extension": ".py",
   "mimetype": "text/x-python",
   "name": "python",
   "nbconvert_exporter": "python",
   "pygments_lexer": "ipython3",
   "version": "3.7.1"
  }
 },
 "nbformat": 4,
 "nbformat_minor": 2
}
