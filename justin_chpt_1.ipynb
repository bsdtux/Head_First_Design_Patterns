{
 "cells": [
  {
   "cell_type": "markdown",
   "metadata": {},
   "source": [
    "<h1>Notes</h1>"
   ]
  },
  {
   "cell_type": "markdown",
   "metadata": {},
   "source": [
    "<h3>Design Principles</h3>\n",
    "<ul>Identify the aspects of your application that vary and separate them from what stays the same.(pg. 9)</ul>\n",
    "<ul>Program to an interface, not an implementation. (pg.11)</ul>\n",
    "<ul>Favor composition over inheritance. (pg. 23)</ul>\n",
    "\n",
    "<h3>Key Takeaways</h3>\n",
    "<ul>Encapsulate what varies</ul>\n",
    "<ul>Favor composition over inheritance</ul>\n",
    "<ul>Progra to interfaces, not implementations</ul>\n",
    "\n",
    "<h2>Strategy Pattern - defines a family of algorithms, encapsulates each one, and makes them interchangeable.  Strategy lets the algorithm variy independently from clients that use it.</h2>"
   ]
  },
  {
   "cell_type": "markdown",
   "metadata": {},
   "source": [
    "<h3>Original Code</h3>"
   ]
  },
  {
   "cell_type": "code",
   "execution_count": 1,
   "metadata": {},
   "outputs": [],
   "source": [
    "class Duck:\n",
    "    def quack():\n",
    "        pass\n",
    "    \n",
    "    def swim():\n",
    "        pass\n",
    "    \n",
    "    def display():\n",
    "        pass\n",
    "    \n",
    "    def fly():\n",
    "        pass"
   ]
  },
  {
   "cell_type": "markdown",
   "metadata": {},
   "source": [
    "Issues with implementation this way:\n",
    "<ol>Not all ducks have these methods, so changing the base class for each new type of duck makes it a nightmare over time.</ol>\n",
    "<ol>Example: Mallard Duck, Redhead Duck, Rubber Duck</ol>\n",
    "\n",
    "Solution: duck behaviors exist in separate classes.  Meaning: Embrace programing to an interface.\n",
    "\n",
    "<h3>Refactored Code</h3>"
   ]
  },
  {
   "cell_type": "code",
   "execution_count": 30,
   "metadata": {},
   "outputs": [],
   "source": [
    "class Duck:\n",
    "    \n",
    "    def __init__():\n",
    "        quack_behavior = QuackBehavior('N')\n",
    "        fly_behavior = FlyBehavior('N')\n",
    "\n",
    "    def set_quack_behavior(self, quack_type: str) -> None:\n",
    "        self.quack_behavior = QuackBehavior(quack_type)\n",
    "    \n",
    "    def set_fly_behavior(self, fly_type: str) -> None:\n",
    "        self.fly_behavior = FlyBehavior(fly_type)\n",
    "    \n",
    "    def display(self):\n",
    "        pass\n",
    "    \n",
    "    def perform_fly(self):\n",
    "        pass\n",
    "    \n",
    "    def perform_quack(self):\n",
    "        pass\n",
    "    \n",
    "\n",
    "class FlyBehavior():\n",
    "    \n",
    "    def __init__(self, fly):\n",
    "        if fly == 'Y':\n",
    "            self.fly_with_wings()\n",
    "        else:\n",
    "            self.fly_no_way()\n",
    "            \n",
    "    def fly_with_wings(self):\n",
    "        print('Fly with wings')\n",
    "        \n",
    "    def fly_no_way(self):\n",
    "        print('Can not fly')\n",
    "    \n",
    "class QuackBehavior():\n",
    "    \n",
    "    def __init__(self, quack):\n",
    "        if quack == 'Y':\n",
    "            self.quack()\n",
    "        else:\n",
    "            self.mute_quack()\n",
    "            \n",
    "    def quack(self):\n",
    "        print('Quack')\n",
    "        \n",
    "    def mute_quack(self):\n",
    "        print('Silence')\n",
    "        \n",
    "class ModelDuck(Duck):\n",
    "    def __init__(self):\n",
    "        self.fly_behavior = FlyBehavior('N')\n",
    "        self.quack_behavior = QuackBehavior('Y')"
   ]
  },
  {
   "cell_type": "code",
   "execution_count": 31,
   "metadata": {},
   "outputs": [
    {
     "name": "stdout",
     "output_type": "stream",
     "text": [
      "Can not fly\n",
      "Quack\n"
     ]
    }
   ],
   "source": [
    "model = ModelDuck()\n",
    "# model.set_fly_behavior('Y')\n",
    "model.perform_fly()"
   ]
  },
  {
   "cell_type": "code",
   "execution_count": null,
   "metadata": {},
   "outputs": [],
   "source": []
  }
 ],
 "metadata": {
  "kernelspec": {
   "display_name": "Python 3",
   "language": "python",
   "name": "python3"
  },
  "language_info": {
   "codemirror_mode": {
    "name": "ipython",
    "version": 3
   },
   "file_extension": ".py",
   "mimetype": "text/x-python",
   "name": "python",
   "nbconvert_exporter": "python",
   "pygments_lexer": "ipython3",
   "version": "3.7.1"
  }
 },
 "nbformat": 4,
 "nbformat_minor": 2
}
